{
 "cells": [
  {
   "cell_type": "markdown",
   "metadata": {},
   "source": [
    "# 概要\n",
    "- trainとtestのbbをまとめる（indexずれを防ぐため）\n",
    "- BB1のscaffoldの情報を使って、FOLDを設定する\n",
    "- bb1~3と同様にbb1もindex化して列を足し、scaffold用の辞書も準備"
   ]
  },
  {
   "cell_type": "code",
   "execution_count": 38,
   "metadata": {},
   "outputs": [],
   "source": [
    "import os\n",
    "from pathlib import Path\n",
    "\n",
    "def is_kaggle_kernel():\n",
    "    return os.path.exists('/kaggle/working')\n",
    "\n",
    "if is_kaggle_kernel():\n",
    "\n",
    "    BASE_DIR = Path(\"/kaggle\")\n",
    "    DATA_DIR = BASE_DIR / \"input\"\n",
    "    OUTPUT_DIR = BASE_DIR / \"working\"\n",
    "    print('on kaggle notebook')\n",
    "\n",
    "else:\n",
    "    BASE_DIR = Path(os.getcwd()) / './../'\n",
    "    DATA_DIR = BASE_DIR / \"data\"\n",
    "    OUTPUT_DIR = BASE_DIR / \"output/eda\"\n",
    "    \n",
    "class paths:    \n",
    "    DATA_DIR = DATA_DIR\n",
    "    TRAIN_PATH = DATA_DIR / \"train.parquet\"\n",
    "    TEST_PATH = DATA_DIR / \"test.parquet\"\n",
    "    OUTPUT_DIR = OUTPUT_DIR\n",
    "    SHRUNKEN_DATA_DIR = DATA_DIR / \"shrunken-train-set\"\n",
    "    \n",
    "    OUTPUT_DIR.mkdir(exist_ok=True, parents=True)"
   ]
  },
  {
   "cell_type": "markdown",
   "metadata": {},
   "source": [
    "# 必要なデータ\n",
    "- smiles to indexの辞書, index to smilesの辞書\n",
    "    - bb1\n",
    "    - bb1 scaffold\n",
    "    - bb2, 3 scaffold\n",
    "    - bb2, 3 scaffold\n",
    "    - main moleculeの scaffoldの辞書\n",
    "\n",
    "- shrunkenしたテストデータ\n",
    "    - train\n",
    "    - test（pretrain用）\n",
    "- non shrunken test（submitt用）"
   ]
  },
  {
   "cell_type": "code",
   "execution_count": 39,
   "metadata": {},
   "outputs": [],
   "source": [
    "# !pip install rdkit"
   ]
  },
  {
   "cell_type": "code",
   "execution_count": 40,
   "metadata": {},
   "outputs": [],
   "source": [
    "import os\n",
    "import gc\n",
    "import math\n",
    "import numpy as np\n",
    "import pandas as pd\n",
    "from glob import glob\n",
    "# import duckdb\n",
    "# import lightgbm as lgb\n",
    "from tqdm import tqdm\n",
    "from rdkit import Chem\n",
    "from rdkit.Chem import Draw\n",
    "\n",
    "import matplotlib.pyplot as plt\n",
    "from sklearn.model_selection import KFold\n",
    "from sklearn.model_selection import StratifiedKFold\n",
    "from rdkit.Chem.Scaffolds import MurckoScaffold\n",
    "\n",
    "import pickle"
   ]
  },
  {
   "cell_type": "code",
   "execution_count": 41,
   "metadata": {},
   "outputs": [],
   "source": [
    "bb_cols = ['buildingblock1_smiles', 'buildingblock2_smiles','buildingblock3_smiles', \n",
    "        #    'molecule_smiles'\n",
    "           ]\n",
    "TARGETS = ['binds_BRD4', 'binds_HSA','binds_sEH']\n",
    "\n",
    "df_train = pd.read_parquet(paths.DATA_DIR / 'shrunken-train-set/train.parquet', columns=bb_cols + TARGETS)\n",
    "df_test = pd.read_parquet(paths.DATA_DIR / 'shrunken-train-set/test.parquet', columns=bb_cols)\n",
    "\n",
    "# submit用のtestデータ\n",
    "df_sub = pd.read_parquet(paths.DATA_DIR / 'test.parquet', columns=['id','protein_name']+bb_cols)"
   ]
  },
  {
   "cell_type": "code",
   "execution_count": 42,
   "metadata": {},
   "outputs": [],
   "source": [
    "# building block smiles\n",
    "# NOTE: trainとtestのindexとsmilesは一致していないっぽい\n",
    "with open(paths.SHRUNKEN_DATA_DIR / 'train_dicts/BBs_dict_reverse_1.p', 'rb') as file:\n",
    "    train_dicts_bb1 = pickle.load(file)\n",
    "with open(paths.SHRUNKEN_DATA_DIR / 'train_dicts/BBs_dict_reverse_2.p', 'rb') as file:\n",
    "    train_dicts_bb2 = pickle.load(file)\n",
    "with open(paths.SHRUNKEN_DATA_DIR / 'train_dicts/BBs_dict_reverse_3.p', 'rb') as file:\n",
    "    train_dicts_bb3 = pickle.load(file)\n",
    "\n",
    "with open(paths.SHRUNKEN_DATA_DIR / 'test_dicts/BBs_dict_reverse_1_test.p', 'rb') as file:\n",
    "    test_dicts_bb1 = pickle.load(file)\n",
    "with open(paths.SHRUNKEN_DATA_DIR / 'test_dicts/BBs_dict_reverse_2_test.p', 'rb') as file:\n",
    "    test_dicts_bb2 = pickle.load(file)\n",
    "with open(paths.SHRUNKEN_DATA_DIR / 'test_dicts/BBs_dict_reverse_3_test.p', 'rb') as file:\n",
    "    test_dicts_bb3= pickle.load(file)"
   ]
  },
  {
   "cell_type": "markdown",
   "metadata": {},
   "source": [
    "一旦smilesに直しておく"
   ]
  },
  {
   "cell_type": "code",
   "execution_count": 43,
   "metadata": {},
   "outputs": [],
   "source": [
    "# 一旦smilesに直しておく\n",
    "df_train['buildingblock1_smiles'] = df_train['buildingblock1_smiles'].map(train_dicts_bb1)\n",
    "df_train['buildingblock2_smiles'] = df_train['buildingblock2_smiles'].map(train_dicts_bb2)\n",
    "df_train['buildingblock3_smiles'] = df_train['buildingblock3_smiles'].map(train_dicts_bb3)\n",
    "df_test['buildingblock1_smiles'] = df_test['buildingblock1_smiles'].map(test_dicts_bb1)\n",
    "df_test['buildingblock2_smiles'] = df_test['buildingblock2_smiles'].map(test_dicts_bb2)\n",
    "df_test['buildingblock3_smiles'] = df_test['buildingblock3_smiles'].map(test_dicts_bb3)"
   ]
  },
  {
   "cell_type": "markdown",
   "metadata": {},
   "source": [
    "## smilet to idxの辞書を作成\n",
    "trainとtestを合わせた辞書を作成する"
   ]
  },
  {
   "cell_type": "code",
   "execution_count": 44,
   "metadata": {},
   "outputs": [
    {
     "name": "stdout",
     "output_type": "stream",
     "text": [
      "341 1769\n"
     ]
    }
   ],
   "source": [
    "bb1_smiles_train = [smiles for smiles in train_dicts_bb1.values()]\n",
    "bb2_smiles_train = [smiles for smiles in train_dicts_bb2.values()]\n",
    "bb3_smiles_train = [smiles for smiles in train_dicts_bb3.values()]\n",
    "bb1_smiles_test = [smiles for smiles in test_dicts_bb1.values()]\n",
    "bb2_smiles_test = [smiles for smiles in test_dicts_bb2.values()]\n",
    "bb3_smiles_test = [smiles for smiles in test_dicts_bb3.values()]\n",
    "\n",
    "bb1_smiles = sorted(list(set(bb1_smiles_train) | set(bb1_smiles_test)))\n",
    "bb23_smiles = sorted(list(set(bb2_smiles_train) | set(bb2_smiles_test) | set(bb3_smiles_train) | set(bb3_smiles_test)))\n",
    "\n",
    "print(len(bb1_smiles), len(bb23_smiles))\n",
    "\n",
    "# smilesをindexに変換する辞書を作成\n",
    "bb1_smiles2idx = {smiles: idx for idx, smiles in enumerate(bb1_smiles)}\n",
    "bb23_smiles2idx = {smiles: idx for idx, smiles in enumerate(bb23_smiles)}\n"
   ]
  },
  {
   "cell_type": "markdown",
   "metadata": {},
   "source": [
    "## scaffold smilesを作成"
   ]
  },
  {
   "cell_type": "code",
   "execution_count": 45,
   "metadata": {},
   "outputs": [
    {
     "name": "stderr",
     "output_type": "stream",
     "text": [
      "100%|████████████████████████████████████████████████████████████████████████████████████| 341/341 [00:00<00:00, 3692.87it/s]\n",
      "100%|██████████████████████████████████████████████████████████████████████████████████| 1769/1769 [00:00<00:00, 9302.28it/s]\n"
     ]
    }
   ],
   "source": [
    "# bb1のscaffoldを取得\n",
    "bb1_scafold_dict = {}\n",
    "for smiles in tqdm(bb1_smiles):\n",
    "    mol = Chem.MolFromSmiles(smiles)\n",
    "    scaffold = MurckoScaffold.GetScaffoldForMol(mol)\n",
    "    scaffold_smiles = Chem.MolToSmiles(scaffold)\n",
    "    \n",
    "    if scaffold_smiles == '':\n",
    "        scaffold_smiles = 'C'\n",
    "    \n",
    "    bb1_scafold_dict[smiles] = scaffold_smiles\n",
    "\n",
    "bb23_scafold_dict = {}\n",
    "for smiles in tqdm(bb23_smiles):\n",
    "    mol = Chem.MolFromSmiles(smiles)\n",
    "    scaffold = MurckoScaffold.GetScaffoldForMol(mol)\n",
    "    scaffold_smiles = Chem.MolToSmiles(scaffold)\n",
    "    \n",
    "    if scaffold_smiles == '':\n",
    "        scaffold_smiles = 'C'\n",
    "    \n",
    "    bb23_scafold_dict[smiles] = scaffold_smiles\n",
    "\n",
    "# scaffoldのリスト\n",
    "bb1_scaffold_smiles = list(set([smiles for smiles in bb1_scafold_dict.values()]))\n",
    "bb23_scaffold_smiles = list(set([smiles for smiles in bb23_scafold_dict.values()]))\n",
    "\n",
    "# scaffoldのsmilesをindexに変換する辞書を作成\n",
    "bb1_scaffold_smiles2idx = {smiles: idx for idx, smiles in enumerate(bb1_scaffold_smiles)}\n",
    "bb23_scaffold_smiles2idx = {smiles: idx for idx, smiles in enumerate(bb23_scaffold_smiles)}"
   ]
  },
  {
   "cell_type": "code",
   "execution_count": 46,
   "metadata": {},
   "outputs": [],
   "source": [
    "df_train[\"buildingblock1_smiles_scaffold\"] = df_train[\"buildingblock1_smiles\"].map(bb1_scafold_dict)\n",
    "df_train[\"buildingblock2_smiles_scaffold\"] = df_train[\"buildingblock2_smiles\"].map(bb23_scafold_dict)\n",
    "df_train[\"buildingblock3_smiles_scaffold\"] = df_train[\"buildingblock3_smiles\"].map(bb23_scafold_dict)\n",
    "\n",
    "df_test[\"buildingblock1_smiles_scaffold\"] = df_test[\"buildingblock1_smiles\"].map(bb1_scafold_dict)\n",
    "df_test[\"buildingblock2_smiles_scaffold\"] = df_test[\"buildingblock2_smiles\"].map(bb23_scafold_dict)\n",
    "df_test[\"buildingblock3_smiles_scaffold\"] = df_test[\"buildingblock3_smiles\"].map(bb23_scafold_dict)\n",
    "\n",
    "df_sub[\"buildingblock1_smiles_scaffold\"] = df_sub[\"buildingblock1_smiles\"].map(bb1_scafold_dict)\n",
    "df_sub[\"buildingblock2_smiles_scaffold\"] = df_sub[\"buildingblock2_smiles\"].map(bb23_scafold_dict)\n",
    "df_sub[\"buildingblock3_smiles_scaffold\"] = df_sub[\"buildingblock3_smiles\"].map(bb23_scafold_dict)"
   ]
  },
  {
   "cell_type": "markdown",
   "metadata": {},
   "source": [
    "## FOLDは旧版のものを受け継ぐ"
   ]
  },
  {
   "cell_type": "code",
   "execution_count": 47,
   "metadata": {},
   "outputs": [
    {
     "data": {
      "text/plain": [
       "1    31600668\n",
       "4    27966077\n",
       "0    19967499\n",
       "2    10163121\n",
       "3     8718245\n",
       "Name: fold, dtype: int64"
      ]
     },
     "metadata": {},
     "output_type": "display_data"
    },
    {
     "name": "stdout",
     "output_type": "stream",
     "text": [
      "fold0\n",
      "binds_BRD4    0.006064\n",
      "binds_HSA     0.004038\n",
      "binds_sEH     0.002274\n",
      "dtype: float64\n",
      "---\n",
      "fold1\n",
      "binds_BRD4    0.003272\n",
      "binds_HSA     0.004994\n",
      "binds_sEH     0.002603\n",
      "dtype: float64\n",
      "---\n",
      "fold2\n",
      "binds_BRD4    0.004564\n",
      "binds_HSA     0.002907\n",
      "binds_sEH     0.044195\n",
      "dtype: float64\n",
      "---\n",
      "fold3\n",
      "binds_BRD4    0.002707\n",
      "binds_HSA     0.003055\n",
      "binds_sEH     0.001804\n",
      "dtype: float64\n",
      "---\n",
      "fold4\n",
      "binds_BRD4    0.005811\n",
      "binds_HSA     0.004069\n",
      "binds_sEH     0.004720\n",
      "dtype: float64\n",
      "---\n"
     ]
    }
   ],
   "source": [
    "df_fold = pd.read_parquet(paths.DATA_DIR / 'shrunken-train-set/train_fold_only.parquet', columns=['fold'])\n",
    "df_train[\"fold\"] = df_fold['fold'].values\n",
    "\n",
    "# foldを分ける\n",
    "display(df_train['fold'].value_counts())\n",
    "\n",
    "# >>> fold2のbinds_sEHだけ以上に多い\n",
    "for fold in range(5):\n",
    "    print(f'fold{fold}')\n",
    "    print(df_train[df_train['fold'] == fold][TARGETS].mean())\n",
    "    print('---')"
   ]
  },
  {
   "cell_type": "markdown",
   "metadata": {},
   "source": [
    "## 全てIDXに変換して、変換用の辞書を保存する"
   ]
  },
  {
   "cell_type": "code",
   "execution_count": 49,
   "metadata": {},
   "outputs": [],
   "source": [
    "col_order = [\n",
    "    'buildingblock1_smiles', 'buildingblock2_smiles','buildingblock3_smiles', \n",
    "       'buildingblock1_smiles_scaffold', 'buildingblock2_smiles_scaffold','buildingblock3_smiles_scaffold',\n",
    "       'fold',\n",
    "       'binds_BRD4', 'binds_HSA', 'binds_sEH']\n",
    "df_train = df_train[col_order]\n",
    "df_test = df_test[col_order[:-4]]"
   ]
  },
  {
   "cell_type": "code",
   "execution_count": 50,
   "metadata": {},
   "outputs": [],
   "source": [
    "# 全てindexに変換する\n",
    "def smiles2idx(df):\n",
    "    df = df.copy()\n",
    "    df['buildingblock1_smiles'] = df['buildingblock1_smiles'].map(bb1_smiles2idx)\n",
    "    df['buildingblock2_smiles'] = df['buildingblock2_smiles'].map(bb23_smiles2idx)\n",
    "    df['buildingblock3_smiles'] = df['buildingblock3_smiles'].map(bb23_smiles2idx)\n",
    "    df['buildingblock1_smiles_scaffold'] = df['buildingblock1_smiles_scaffold'].map(bb1_scaffold_smiles2idx)\n",
    "    df['buildingblock2_smiles_scaffold'] = df['buildingblock2_smiles_scaffold'].map(bb23_scaffold_smiles2idx)\n",
    "    df['buildingblock3_smiles_scaffold'] = df['buildingblock3_smiles_scaffold'].map(bb23_scaffold_smiles2idx)\n",
    "    return df\n",
    "\n",
    "df_train = smiles2idx(df_train)\n",
    "df_test = smiles2idx(df_test)\n",
    "df_sub = smiles2idx(df_sub)\n"
   ]
  },
  {
   "cell_type": "code",
   "execution_count": 51,
   "metadata": {},
   "outputs": [
    {
     "data": {
      "text/html": [
       "<div>\n",
       "<style scoped>\n",
       "    .dataframe tbody tr th:only-of-type {\n",
       "        vertical-align: middle;\n",
       "    }\n",
       "\n",
       "    .dataframe tbody tr th {\n",
       "        vertical-align: top;\n",
       "    }\n",
       "\n",
       "    .dataframe thead th {\n",
       "        text-align: right;\n",
       "    }\n",
       "</style>\n",
       "<table border=\"1\" class=\"dataframe\">\n",
       "  <thead>\n",
       "    <tr style=\"text-align: right;\">\n",
       "      <th></th>\n",
       "      <th>id</th>\n",
       "      <th>protein_name</th>\n",
       "      <th>buildingblock1_smiles</th>\n",
       "      <th>buildingblock2_smiles</th>\n",
       "      <th>buildingblock3_smiles</th>\n",
       "      <th>buildingblock1_smiles_scaffold</th>\n",
       "      <th>buildingblock2_smiles_scaffold</th>\n",
       "      <th>buildingblock3_smiles_scaffold</th>\n",
       "    </tr>\n",
       "  </thead>\n",
       "  <tbody>\n",
       "    <tr>\n",
       "      <th>0</th>\n",
       "      <td>295246830</td>\n",
       "      <td>BRD4</td>\n",
       "      <td>0</td>\n",
       "      <td>20</td>\n",
       "      <td>20</td>\n",
       "      <td>56</td>\n",
       "      <td>509</td>\n",
       "      <td>509</td>\n",
       "    </tr>\n",
       "    <tr>\n",
       "      <th>1</th>\n",
       "      <td>295246831</td>\n",
       "      <td>HSA</td>\n",
       "      <td>0</td>\n",
       "      <td>20</td>\n",
       "      <td>20</td>\n",
       "      <td>56</td>\n",
       "      <td>509</td>\n",
       "      <td>509</td>\n",
       "    </tr>\n",
       "    <tr>\n",
       "      <th>2</th>\n",
       "      <td>295246832</td>\n",
       "      <td>sEH</td>\n",
       "      <td>0</td>\n",
       "      <td>20</td>\n",
       "      <td>20</td>\n",
       "      <td>56</td>\n",
       "      <td>509</td>\n",
       "      <td>509</td>\n",
       "    </tr>\n",
       "    <tr>\n",
       "      <th>3</th>\n",
       "      <td>295246833</td>\n",
       "      <td>BRD4</td>\n",
       "      <td>0</td>\n",
       "      <td>20</td>\n",
       "      <td>119</td>\n",
       "      <td>56</td>\n",
       "      <td>509</td>\n",
       "      <td>142</td>\n",
       "    </tr>\n",
       "    <tr>\n",
       "      <th>4</th>\n",
       "      <td>295246834</td>\n",
       "      <td>HSA</td>\n",
       "      <td>0</td>\n",
       "      <td>20</td>\n",
       "      <td>119</td>\n",
       "      <td>56</td>\n",
       "      <td>509</td>\n",
       "      <td>142</td>\n",
       "    </tr>\n",
       "  </tbody>\n",
       "</table>\n",
       "</div>"
      ],
      "text/plain": [
       "          id protein_name  buildingblock1_smiles  buildingblock2_smiles  \\\n",
       "0  295246830         BRD4                      0                     20   \n",
       "1  295246831          HSA                      0                     20   \n",
       "2  295246832          sEH                      0                     20   \n",
       "3  295246833         BRD4                      0                     20   \n",
       "4  295246834          HSA                      0                     20   \n",
       "\n",
       "   buildingblock3_smiles  buildingblock1_smiles_scaffold  \\\n",
       "0                     20                              56   \n",
       "1                     20                              56   \n",
       "2                     20                              56   \n",
       "3                    119                              56   \n",
       "4                    119                              56   \n",
       "\n",
       "   buildingblock2_smiles_scaffold  buildingblock3_smiles_scaffold  \n",
       "0                             509                             509  \n",
       "1                             509                             509  \n",
       "2                             509                             509  \n",
       "3                             509                             142  \n",
       "4                             509                             142  "
      ]
     },
     "execution_count": 51,
     "metadata": {},
     "output_type": "execute_result"
    }
   ],
   "source": [
    "df_sub.head()"
   ]
  },
  {
   "cell_type": "code",
   "execution_count": 52,
   "metadata": {},
   "outputs": [],
   "source": [
    "## 保存\n",
    "SAVE_DIR = paths.DATA_DIR / 'shrunken-data'\n",
    "SAVE_DIR.mkdir(exist_ok=True, parents=True)\n",
    "\n",
    "df_train.to_parquet(SAVE_DIR / 'train.parquet')\n",
    "df_test.to_parquet(SAVE_DIR / 'test.parquet')\n",
    "df_sub.to_parquet(SAVE_DIR / 'sub.parquet')\n",
    "\n",
    "with open(SAVE_DIR / 'bb1_smiles2idx.pickle', mode='wb') as f:\n",
    "    pickle.dump(bb1_smiles2idx, f)\n",
    "with open(SAVE_DIR / 'bb23_smiles2idx.pickle', mode='wb') as f:\n",
    "    pickle.dump(bb23_smiles2idx, f)\n",
    "with open(SAVE_DIR / 'bb1_scaffold_smiles2idx.pickle', mode='wb') as f:\n",
    "    pickle.dump(bb1_scaffold_smiles2idx, f)\n",
    "with open(SAVE_DIR / 'bb23_scaffold_smiles2idx.pickle', mode='wb') as f:\n",
    "    pickle.dump(bb23_scaffold_smiles2idx, f)"
   ]
  },
  {
   "cell_type": "code",
   "execution_count": null,
   "metadata": {},
   "outputs": [],
   "source": []
  },
  {
   "cell_type": "code",
   "execution_count": null,
   "metadata": {},
   "outputs": [],
   "source": []
  }
 ],
 "metadata": {
  "kernelspec": {
   "display_name": "Python 3 (ipykernel)",
   "language": "python",
   "name": "python3"
  },
  "language_info": {
   "codemirror_mode": {
    "name": "ipython",
    "version": 3
   },
   "file_extension": ".py",
   "mimetype": "text/x-python",
   "name": "python",
   "nbconvert_exporter": "python",
   "pygments_lexer": "ipython3",
   "version": "3.10.6"
  }
 },
 "nbformat": 4,
 "nbformat_minor": 4
}
