{
 "cells": [
  {
   "cell_type": "code",
   "execution_count": 70,
   "metadata": {
    "_cell_guid": "b1076dfc-b9ad-4769-8c92-a6c4dae69d19",
    "_uuid": "8f2839f25d086af736a60e9eeb907d3b93b6e0e5"
   },
   "outputs": [],
   "source": [
    "import gc\n",
    "import math\n",
    "import matplotlib.pyplot as plt\n",
    "import numpy as np\n",
    "import os\n",
    "import pandas as pd\n",
    "import random\n",
    "import time\n",
    "from pathlib import Path\n",
    "from glob import glob\n",
    "from tqdm import tqdm\n",
    "import warnings\n",
    "from sklearn.metrics import average_precision_score as APS\n",
    "warnings.filterwarnings('ignore')\n",
    "from functools import partial\n",
    "import optuna"
   ]
  },
  {
   "cell_type": "code",
   "execution_count": 71,
   "metadata": {},
   "outputs": [],
   "source": [
    "import os\n",
    "from pathlib import Path\n",
    "\n",
    "BASE_DIR = Path(os.getcwd()) / './../'\n",
    "DATA_DIR = BASE_DIR / \"data\"\n",
    "OUTPUT_DIR = BASE_DIR / f\"output\"\n",
    "\n",
    "ENS_OUTPUT_DIR  = OUTPUT_DIR / \"ensemble\"\n",
    "ENS_OUTPUT_DIR.mkdir(parents=True, exist_ok=True)"
   ]
  },
  {
   "cell_type": "code",
   "execution_count": 72,
   "metadata": {},
   "outputs": [],
   "source": [
    "true_cols = [\"binds_BRD4\", \"binds_HSA\", \"binds_sEH\"]\n",
    "path = OUTPUT_DIR / f\"exp066\" / f\"oof_all.parquet\"\n",
    "df_gt = pd.read_parquet(path, columns=true_cols).sort_index()"
   ]
  },
  {
   "cell_type": "code",
   "execution_count": 73,
   "metadata": {},
   "outputs": [],
   "source": [
    "def ensemble(use_exp_list, index_list):\n",
    "    \n",
    "    preds = []\n",
    "    pred_col = [\"binds_BRD4_pred\",\"binds_HSA_pred\",\"binds_sEH_pred\"]\n",
    "    for exp in use_exp_list:\n",
    "        \n",
    "        path = OUTPUT_DIR / f\"exp{exp}\" / f\"oof_all.parquet\"\n",
    "        df_temp = pd.read_parquet(path, columns=pred_col)        \n",
    "        preds.append(df_temp.loc[index_list,:].values)\n",
    "        \n",
    "    y_preds = np.mean(preds, axis=0)\n",
    "\n",
    "    # df_temp[pred_col] = preds\n",
    "    \n",
    "    del df_temp\n",
    "    gc.collect()\n",
    "    \n",
    "    return y_preds\n",
    "\n",
    "def calc_score(y_preds, y_true):\n",
    "    score_BRD4 = APS(y_true[:,0], y_preds[:,0])\n",
    "    score_HSA = APS(y_true[:,1], y_preds[:,1])\n",
    "    score_sEH = APS(y_true[:,2], y_preds[:,2])\n",
    "    score = (score_BRD4 + score_HSA + score_sEH) / 3\n",
    "    \n",
    "    return score"
   ]
  },
  {
   "cell_type": "code",
   "execution_count": 74,
   "metadata": {},
   "outputs": [],
   "source": [
    "exp_list = [\n",
    "    \"062\",\n",
    "    \"063\",\n",
    "    \"064\",\n",
    "    \"064_42\",\n",
    "    \"065\",\n",
    "    \"066\",\n",
    "    \"067\",    \n",
    "    \"068\",    \n",
    "    \"069\",\n",
    "    \"070\",\n",
    "    # \"070_717\",\n",
    "    \"071\",\n",
    "    \"072\",\n",
    "    \"072_524\",\n",
    "    \"073\",\n",
    "    \"074\",\n",
    "    # \"076\",\n",
    "    \"077_1024\",\n",
    "    \"078_1123\",\n",
    "    \"079_123\",\n",
    "    \"080_125\",\n",
    "]\n",
    "\n",
    "# pred_col = [\"binds_BRD4_pred\",\"binds_HSA_pred\",\n",
    "#             # \"binds_sEH_pred\"\n",
    "#             ]\n",
    "# for exp in exp_list:\n",
    "#     path = OUTPUT_DIR / f\"exp{exp}\" / f\"oof_all.parquet\"\n",
    "#     df_temp = pd.read_parquet(path, columns=pred_col)\n",
    "#     print(exp, len(df_temp))\n",
    "    "
   ]
  },
  {
   "cell_type": "code",
   "execution_count": 75,
   "metadata": {},
   "outputs": [],
   "source": []
  },
  {
   "cell_type": "code",
   "execution_count": 79,
   "metadata": {},
   "outputs": [
    {
     "name": "stderr",
     "output_type": "stream",
     "text": [
      "[I 2024-07-08 02:08:51,989] A new study created in memory with name: no-name-80805a8f-3cd3-4e16-a7e8-5faed9d119eb\n"
     ]
    },
    {
     "name": "stdout",
     "output_type": "stream",
     "text": [
      "Index([38734477,  6113446, 16141361, 65251159,  5579301, 20407207,  4456174,\n",
      "       57202049, 33913505,  2939869],\n",
      "      dtype='int64')\n"
     ]
    },
    {
     "name": "stderr",
     "output_type": "stream",
     "text": [
      "[I 2024-07-08 02:10:15,141] Trial 0 finished with value: 0.36572867217816424 and parameters: {'062': 1, '063': 0, '064': 1, '064_42': 0, '065': 0, '066': 0, '067': 0, '068': 0, '069': 1, '070': 0, '071': 1, '072': 1, '072_524': 0, '073': 1, '074': 0, '077_1024': 1, '078_1123': 1, '079_123': 1, '080_125': 0}. Best is trial 0 with value: 0.36572867217816424.\n",
      "[I 2024-07-08 02:11:41,143] Trial 1 finished with value: 0.3426386468472607 and parameters: {'062': 1, '063': 1, '064': 1, '064_42': 1, '065': 0, '066': 1, '067': 0, '068': 1, '069': 1, '070': 1, '071': 0, '072': 1, '072_524': 0, '073': 0, '074': 0, '077_1024': 0, '078_1123': 0, '079_123': 1, '080_125': 1}. Best is trial 0 with value: 0.36572867217816424.\n",
      "[I 2024-07-08 02:13:00,732] Trial 2 finished with value: 0.3547671984836609 and parameters: {'062': 0, '063': 0, '064': 0, '064_42': 1, '065': 1, '066': 0, '067': 1, '068': 1, '069': 1, '070': 1, '071': 0, '072': 1, '072_524': 0, '073': 0, '074': 1, '077_1024': 1, '078_1123': 1, '079_123': 0, '080_125': 0}. Best is trial 0 with value: 0.36572867217816424.\n",
      "[I 2024-07-08 02:14:33,531] Trial 3 finished with value: 0.365513222550298 and parameters: {'062': 0, '063': 0, '064': 0, '064_42': 0, '065': 0, '066': 0, '067': 1, '068': 1, '069': 1, '070': 1, '071': 1, '072': 1, '072_524': 0, '073': 1, '074': 1, '077_1024': 1, '078_1123': 1, '079_123': 1, '080_125': 1}. Best is trial 0 with value: 0.36572867217816424.\n",
      "[I 2024-07-08 02:15:52,740] Trial 4 finished with value: 0.35338118266490154 and parameters: {'062': 1, '063': 1, '064': 0, '064_42': 0, '065': 1, '066': 0, '067': 0, '068': 1, '069': 0, '070': 1, '071': 0, '072': 1, '072_524': 1, '073': 0, '074': 1, '077_1024': 0, '078_1123': 1, '079_123': 1, '080_125': 0}. Best is trial 0 with value: 0.36572867217816424.\n"
     ]
    },
    {
     "name": "stdout",
     "output_type": "stream",
     "text": [
      "Best trial:\n",
      "Value: 0.36572867217816424\n",
      "Best parameters:\n",
      "062: 1\n",
      "063: 0\n",
      "064: 1\n",
      "064_42: 0\n",
      "065: 0\n",
      "066: 0\n",
      "067: 0\n",
      "068: 0\n",
      "069: 1\n",
      "070: 0\n",
      "071: 1\n",
      "072: 1\n",
      "072_524: 0\n",
      "073: 1\n",
      "074: 0\n",
      "077_1024: 1\n",
      "078_1123: 1\n",
      "079_123: 1\n",
      "080_125: 0\n",
      "Index([47635583, 46943820, 74124686, 40400210,  4525261, 57349069, 74115063,\n",
      "       25482895, 64196399, 62277734],\n",
      "      dtype='int64')\n"
     ]
    },
    {
     "name": "stderr",
     "output_type": "stream",
     "text": [
      "[I 2024-07-08 02:16:59,702] Trial 5 finished with value: 0.33693805052460135 and parameters: {'062': 1, '063': 0, '064': 0, '064_42': 0, '065': 0, '066': 1, '067': 1, '068': 0, '069': 1, '070': 1, '071': 1, '072': 0, '072_524': 1, '073': 0, '074': 0, '077_1024': 0, '078_1123': 0, '079_123': 0, '080_125': 1}. Best is trial 0 with value: 0.36572867217816424.\n",
      "[I 2024-07-08 02:18:17,495] Trial 6 finished with value: 0.4152117005913307 and parameters: {'062': 0, '063': 0, '064': 1, '064_42': 1, '065': 0, '066': 0, '067': 1, '068': 1, '069': 1, '070': 0, '071': 0, '072': 0, '072_524': 1, '073': 0, '074': 1, '077_1024': 1, '078_1123': 1, '079_123': 0, '080_125': 1}. Best is trial 6 with value: 0.4152117005913307.\n",
      "[I 2024-07-08 02:19:30,899] Trial 7 finished with value: 0.29434238947739694 and parameters: {'062': 0, '063': 0, '064': 1, '064_42': 0, '065': 0, '066': 1, '067': 1, '068': 1, '069': 1, '070': 0, '071': 0, '072': 1, '072_524': 0, '073': 1, '074': 1, '077_1024': 1, '078_1123': 0, '079_123': 0, '080_125': 0}. Best is trial 6 with value: 0.4152117005913307.\n",
      "[I 2024-07-08 02:20:45,590] Trial 8 finished with value: 0.3625047105575498 and parameters: {'062': 1, '063': 0, '064': 0, '064_42': 1, '065': 0, '066': 1, '067': 1, '068': 1, '069': 0, '070': 0, '071': 1, '072': 0, '072_524': 0, '073': 0, '074': 1, '077_1024': 0, '078_1123': 1, '079_123': 1, '080_125': 0}. Best is trial 6 with value: 0.4152117005913307.\n",
      "[I 2024-07-08 02:22:11,888] Trial 9 finished with value: 0.2971579995805515 and parameters: {'062': 0, '063': 0, '064': 0, '064_42': 0, '065': 0, '066': 1, '067': 1, '068': 1, '069': 1, '070': 1, '071': 1, '072': 0, '072_524': 0, '073': 0, '074': 1, '077_1024': 1, '078_1123': 0, '079_123': 0, '080_125': 0}. Best is trial 6 with value: 0.4152117005913307.\n"
     ]
    },
    {
     "name": "stdout",
     "output_type": "stream",
     "text": [
      "Best trial:\n",
      "Value: 0.4152117005913307\n",
      "Best parameters:\n",
      "062: 0\n",
      "063: 0\n",
      "064: 1\n",
      "064_42: 1\n",
      "065: 0\n",
      "066: 0\n",
      "067: 1\n",
      "068: 1\n",
      "069: 1\n",
      "070: 0\n",
      "071: 0\n",
      "072: 0\n",
      "072_524: 1\n",
      "073: 0\n",
      "074: 1\n",
      "077_1024: 1\n",
      "078_1123: 1\n",
      "079_123: 0\n",
      "080_125: 1\n",
      "Index([93857239, 12893077, 18930551,  1570349, 22157193, 41997880, 34843164,\n",
      "       72454862, 61052776, 92009712],\n",
      "      dtype='int64')\n"
     ]
    },
    {
     "name": "stderr",
     "output_type": "stream",
     "text": [
      "[I 2024-07-08 02:23:33,689] Trial 10 finished with value: 0.42267015212135733 and parameters: {'062': 0, '063': 1, '064': 1, '064_42': 1, '065': 1, '066': 0, '067': 0, '068': 0, '069': 0, '070': 0, '071': 0, '072': 0, '072_524': 1, '073': 1, '074': 0, '077_1024': 1, '078_1123': 1, '079_123': 0, '080_125': 1}. Best is trial 10 with value: 0.42267015212135733.\n",
      "[I 2024-07-08 02:24:48,067] Trial 11 finished with value: 0.42267015212135733 and parameters: {'062': 0, '063': 1, '064': 1, '064_42': 1, '065': 1, '066': 0, '067': 0, '068': 0, '069': 0, '070': 0, '071': 0, '072': 0, '072_524': 1, '073': 1, '074': 0, '077_1024': 1, '078_1123': 1, '079_123': 0, '080_125': 1}. Best is trial 10 with value: 0.42267015212135733.\n",
      "[I 2024-07-08 02:26:00,689] Trial 12 finished with value: 0.42267015212135733 and parameters: {'062': 0, '063': 1, '064': 1, '064_42': 1, '065': 1, '066': 0, '067': 0, '068': 0, '069': 0, '070': 0, '071': 0, '072': 0, '072_524': 1, '073': 1, '074': 0, '077_1024': 1, '078_1123': 1, '079_123': 0, '080_125': 1}. Best is trial 10 with value: 0.42267015212135733.\n",
      "[I 2024-07-08 02:27:10,549] Trial 13 finished with value: 0.42267015212135733 and parameters: {'062': 0, '063': 1, '064': 1, '064_42': 1, '065': 1, '066': 0, '067': 0, '068': 0, '069': 0, '070': 0, '071': 0, '072': 0, '072_524': 1, '073': 1, '074': 0, '077_1024': 1, '078_1123': 1, '079_123': 0, '080_125': 1}. Best is trial 10 with value: 0.42267015212135733.\n",
      "[I 2024-07-08 02:28:24,330] Trial 14 finished with value: 0.42267015212135733 and parameters: {'062': 0, '063': 1, '064': 1, '064_42': 1, '065': 1, '066': 0, '067': 0, '068': 0, '069': 0, '070': 0, '071': 0, '072': 0, '072_524': 1, '073': 1, '074': 0, '077_1024': 1, '078_1123': 1, '079_123': 0, '080_125': 1}. Best is trial 10 with value: 0.42267015212135733.\n"
     ]
    },
    {
     "name": "stdout",
     "output_type": "stream",
     "text": [
      "Best trial:\n",
      "Value: 0.42267015212135733\n",
      "Best parameters:\n",
      "062: 0\n",
      "063: 1\n",
      "064: 1\n",
      "064_42: 1\n",
      "065: 1\n",
      "066: 0\n",
      "067: 0\n",
      "068: 0\n",
      "069: 0\n",
      "070: 0\n",
      "071: 0\n",
      "072: 0\n",
      "072_524: 1\n",
      "073: 1\n",
      "074: 0\n",
      "077_1024: 1\n",
      "078_1123: 1\n",
      "079_123: 0\n",
      "080_125: 1\n",
      "Index([ 3200488, 78156342, 96179489, 31764937, 24915474,    76894, 16047896,\n",
      "        5451622, 86251237, 78652214],\n",
      "      dtype='int64')\n"
     ]
    },
    {
     "name": "stderr",
     "output_type": "stream",
     "text": [
      "[I 2024-07-08 02:29:41,844] Trial 15 finished with value: 0.42520516808126657 and parameters: {'062': 0, '063': 1, '064': 1, '064_42': 1, '065': 1, '066': 0, '067': 0, '068': 0, '069': 0, '070': 0, '071': 0, '072': 0, '072_524': 1, '073': 1, '074': 0, '077_1024': 1, '078_1123': 1, '079_123': 0, '080_125': 1}. Best is trial 15 with value: 0.42520516808126657.\n",
      "[I 2024-07-08 02:30:55,169] Trial 16 finished with value: 0.42520516808126657 and parameters: {'062': 0, '063': 1, '064': 1, '064_42': 1, '065': 1, '066': 0, '067': 0, '068': 0, '069': 0, '070': 0, '071': 0, '072': 0, '072_524': 1, '073': 1, '074': 0, '077_1024': 1, '078_1123': 1, '079_123': 0, '080_125': 1}. Best is trial 15 with value: 0.42520516808126657.\n",
      "[I 2024-07-08 02:31:53,782] Trial 17 finished with value: 0.38693015114726864 and parameters: {'062': 0, '063': 1, '064': 1, '064_42': 1, '065': 1, '066': 0, '067': 0, '068': 0, '069': 0, '070': 0, '071': 0, '072': 0, '072_524': 1, '073': 1, '074': 0, '077_1024': 0, '078_1123': 0, '079_123': 0, '080_125': 1}. Best is trial 15 with value: 0.42520516808126657.\n",
      "[I 2024-07-08 02:33:07,391] Trial 18 finished with value: 0.42520516808126657 and parameters: {'062': 0, '063': 1, '064': 1, '064_42': 1, '065': 1, '066': 0, '067': 0, '068': 0, '069': 0, '070': 0, '071': 0, '072': 0, '072_524': 1, '073': 1, '074': 0, '077_1024': 1, '078_1123': 1, '079_123': 0, '080_125': 1}. Best is trial 15 with value: 0.42520516808126657.\n",
      "[I 2024-07-08 02:34:20,874] Trial 19 finished with value: 0.42520516808126657 and parameters: {'062': 0, '063': 1, '064': 1, '064_42': 1, '065': 1, '066': 0, '067': 0, '068': 0, '069': 0, '070': 0, '071': 0, '072': 0, '072_524': 1, '073': 1, '074': 0, '077_1024': 1, '078_1123': 1, '079_123': 0, '080_125': 1}. Best is trial 15 with value: 0.42520516808126657.\n"
     ]
    },
    {
     "name": "stdout",
     "output_type": "stream",
     "text": [
      "Best trial:\n",
      "Value: 0.42520516808126657\n",
      "Best parameters:\n",
      "062: 0\n",
      "063: 1\n",
      "064: 1\n",
      "064_42: 1\n",
      "065: 1\n",
      "066: 0\n",
      "067: 0\n",
      "068: 0\n",
      "069: 0\n",
      "070: 0\n",
      "071: 0\n",
      "072: 0\n",
      "072_524: 1\n",
      "073: 1\n",
      "074: 0\n",
      "077_1024: 1\n",
      "078_1123: 1\n",
      "079_123: 0\n",
      "080_125: 1\n",
      "Index([ 5962652, 95773954, 84715492, 84836951, 32495753, 55026869, 68969673,\n",
      "       88362740, 50374796, 96715473],\n",
      "      dtype='int64')\n"
     ]
    },
    {
     "name": "stderr",
     "output_type": "stream",
     "text": [
      "[I 2024-07-08 02:35:54,204] Trial 20 finished with value: 0.3689833912099681 and parameters: {'062': 1, '063': 1, '064': 1, '064_42': 1, '065': 1, '066': 1, '067': 0, '068': 0, '069': 0, '070': 0, '071': 1, '072': 0, '072_524': 1, '073': 1, '074': 0, '077_1024': 0, '078_1123': 0, '079_123': 1, '080_125': 1}. Best is trial 15 with value: 0.42520516808126657.\n",
      "[I 2024-07-08 02:37:14,087] Trial 21 finished with value: 0.42458019628941085 and parameters: {'062': 0, '063': 1, '064': 1, '064_42': 1, '065': 1, '066': 0, '067': 0, '068': 0, '069': 0, '070': 0, '071': 0, '072': 0, '072_524': 1, '073': 1, '074': 0, '077_1024': 1, '078_1123': 1, '079_123': 0, '080_125': 1}. Best is trial 15 with value: 0.42520516808126657.\n",
      "[I 2024-07-08 02:38:32,106] Trial 22 finished with value: 0.42458019628941085 and parameters: {'062': 0, '063': 1, '064': 1, '064_42': 1, '065': 1, '066': 0, '067': 0, '068': 0, '069': 0, '070': 0, '071': 0, '072': 0, '072_524': 1, '073': 1, '074': 0, '077_1024': 1, '078_1123': 1, '079_123': 0, '080_125': 1}. Best is trial 15 with value: 0.42520516808126657.\n",
      "[I 2024-07-08 02:39:45,437] Trial 23 finished with value: 0.42458019628941085 and parameters: {'062': 0, '063': 1, '064': 1, '064_42': 1, '065': 1, '066': 0, '067': 0, '068': 0, '069': 0, '070': 0, '071': 0, '072': 0, '072_524': 1, '073': 1, '074': 0, '077_1024': 1, '078_1123': 1, '079_123': 0, '080_125': 1}. Best is trial 15 with value: 0.42520516808126657.\n",
      "[I 2024-07-08 02:41:10,445] Trial 24 finished with value: 0.42458019628941085 and parameters: {'062': 0, '063': 1, '064': 1, '064_42': 1, '065': 1, '066': 0, '067': 0, '068': 0, '069': 0, '070': 0, '071': 0, '072': 0, '072_524': 1, '073': 1, '074': 0, '077_1024': 1, '078_1123': 1, '079_123': 0, '080_125': 1}. Best is trial 15 with value: 0.42520516808126657.\n"
     ]
    },
    {
     "name": "stdout",
     "output_type": "stream",
     "text": [
      "Best trial:\n",
      "Value: 0.42520516808126657\n",
      "Best parameters:\n",
      "062: 0\n",
      "063: 1\n",
      "064: 1\n",
      "064_42: 1\n",
      "065: 1\n",
      "066: 0\n",
      "067: 0\n",
      "068: 0\n",
      "069: 0\n",
      "070: 0\n",
      "071: 0\n",
      "072: 0\n",
      "072_524: 1\n",
      "073: 1\n",
      "074: 0\n",
      "077_1024: 1\n",
      "078_1123: 1\n",
      "079_123: 0\n",
      "080_125: 1\n"
     ]
    }
   ],
   "source": [
    "study = optuna.create_study(direction='maximize')\n",
    "\n",
    "result = []\n",
    "for random_state in [42, 524, 717, 1024, 1123]:\n",
    "    \n",
    "    index_list = df_gt.sample(int(len(df_gt)/10), random_state=random_state).index\n",
    "    print(index_list[:10])\n",
    "    \n",
    "    def objective(trial):\n",
    "        # 20個の0または1を取る変数を生成\n",
    "        variables = [trial.suggest_int(str(exp), 0, 1) for exp in exp_list]\n",
    "        \n",
    "        exp_array = np.array(exp_list)\n",
    "        var_array = np.array(variables)\n",
    "        use_exp_list = exp_array[np.where(var_array == 1)]\n",
    "        # print(use_exp_list)\n",
    "        \n",
    "        # ensemble\n",
    "        y_preds = ensemble(use_exp_list, index_list)\n",
    "        \n",
    "        y_true = df_gt.loc[index_list, true_cols].values\n",
    "        score = calc_score(y_preds, y_true)\n",
    "        \n",
    "        del y_preds\n",
    "        gc.collect()\n",
    "        \n",
    "        return score\n",
    "    \n",
    "    def ensemble(use_exp_list, index_list):\n",
    "    \n",
    "        preds = []\n",
    "        pred_col = [\"binds_BRD4_pred\",\"binds_HSA_pred\",\"binds_sEH_pred\"]\n",
    "        for exp in use_exp_list:\n",
    "            \n",
    "            path = OUTPUT_DIR / f\"exp{exp}\" / f\"oof_all.parquet\"\n",
    "            df_temp = pd.read_parquet(path, columns=pred_col)        \n",
    "            preds.append(df_temp.loc[index_list,:].values)\n",
    "            \n",
    "        y_preds = np.mean(preds, axis=0)\n",
    "\n",
    "        # df_temp[pred_col] = preds\n",
    "        \n",
    "        del df_temp\n",
    "        gc.collect()\n",
    "        \n",
    "        return y_preds\n",
    "    \n",
    "    # new_objective = partial(objective, index_list=index_list, exp_list=exp_list)\n",
    "    # new_objective = partial(objective, index_list=index_list, exp_list=exp_list)\n",
    "    \n",
    "    study.optimize(objective, n_trials=5)\n",
    "\n",
    "    # 最適な結果を表示します\n",
    "    print('Best trial:')\n",
    "    trial = study.best_trial\n",
    "    result.append(trial.params)\n",
    "\n",
    "    print(f'Value: {trial.value}')\n",
    "\n",
    "    print('Best parameters:')\n",
    "    for key, value in trial.params.items():\n",
    "        print(f'{key}: {value}')"
   ]
  },
  {
   "cell_type": "code",
   "execution_count": 82,
   "metadata": {},
   "outputs": [],
   "source": [
    "result_df = pd.DataFrame(result)\n",
    "result_df.to_csv(ENS_OUTPUT_DIR / \"optuna.csv\", index=False)"
   ]
  },
  {
   "cell_type": "code",
   "execution_count": null,
   "metadata": {},
   "outputs": [],
   "source": []
  },
  {
   "cell_type": "code",
   "execution_count": null,
   "metadata": {},
   "outputs": [],
   "source": []
  },
  {
   "cell_type": "code",
   "execution_count": null,
   "metadata": {},
   "outputs": [],
   "source": []
  }
 ],
 "metadata": {
  "kaggle": {
   "accelerator": "nvidiaTeslaT4",
   "dataSources": [
    {
     "databundleVersionId": 8006601,
     "sourceId": 67356,
     "sourceType": "competition"
    },
    {
     "datasetId": 4914065,
     "sourceId": 8275617,
     "sourceType": "datasetVersion"
    }
   ],
   "isGpuEnabled": true,
   "isInternetEnabled": true,
   "language": "python",
   "sourceType": "notebook"
  },
  "kernelspec": {
   "display_name": "Python 3 (ipykernel)",
   "language": "python",
   "name": "python3"
  },
  "language_info": {
   "codemirror_mode": {
    "name": "ipython",
    "version": 3
   },
   "file_extension": ".py",
   "mimetype": "text/x-python",
   "name": "python",
   "nbconvert_exporter": "python",
   "pygments_lexer": "ipython3",
   "version": "3.10.14"
  }
 },
 "nbformat": 4,
 "nbformat_minor": 4
}
