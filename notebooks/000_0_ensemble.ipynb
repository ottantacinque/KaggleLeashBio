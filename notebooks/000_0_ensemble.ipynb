{
 "cells": [
  {
   "cell_type": "code",
   "execution_count": 1,
   "metadata": {
    "_cell_guid": "b1076dfc-b9ad-4769-8c92-a6c4dae69d19",
    "_uuid": "8f2839f25d086af736a60e9eeb907d3b93b6e0e5"
   },
   "outputs": [],
   "source": [
    "import gc\n",
    "import math\n",
    "import matplotlib.pyplot as plt\n",
    "import numpy as np\n",
    "import os\n",
    "import pandas as pd\n",
    "import random\n",
    "import time\n",
    "from pathlib import Path\n",
    "from glob import glob\n",
    "from tqdm import tqdm\n",
    "import warnings\n",
    "warnings.filterwarnings('ignore')"
   ]
  },
  {
   "cell_type": "code",
   "execution_count": 2,
   "metadata": {},
   "outputs": [],
   "source": [
    "import os\n",
    "from pathlib import Path\n",
    "\n",
    "BASE_DIR = Path(os.getcwd()) / './../'\n",
    "DATA_DIR = BASE_DIR / \"data\"\n",
    "OUTPUT_DIR = BASE_DIR / f\"output\"\n",
    "\n",
    "ENS_OUTPUT_DIR  = OUTPUT_DIR / \"ensemble\"\n",
    "ENS_OUTPUT_DIR.mkdir(parents=True, exist_ok=True)"
   ]
  },
  {
   "cell_type": "code",
   "execution_count": 3,
   "metadata": {},
   "outputs": [],
   "source": [
    "exp_no_list = [\n",
    "                '015', # 0.455\n",
    "               '016', # 0.447  mordred\n",
    "               \"031\", # 0.451 headそう減らした\n",
    "               \"034\", # 0.451 mainのECFP4をあてる\n",
    "               '037', # 0.457 データの取り方変えた\n",
    "               \"043\", # 0.45 bb23のscaffold使った\n",
    "               \"044\", # 0.452 037のfold変えた版\n",
    "               \n",
    "            #    \"046\", # 0.443 2層目のFCをまとめた\n",
    "               \"049\", # 0.448 bb23だけ綺麗にしたもの\n",
    "               \"050\", # 0.448 scaffoldも含め全てクリーニングしたもの\n",
    "               \"051\", # 0.448 全データ使用\n",
    "            #    \"052\", # 0.443 ソフトラベリング\n",
    "               \"054\", # 0.457 tokenのモデルも組み込んだ\n",
    "               ] # "
   ]
  },
  {
   "cell_type": "code",
   "execution_count": 4,
   "metadata": {},
   "outputs": [
    {
     "name": "stdout",
     "output_type": "stream",
     "text": [
      "/workspaces/KaggleLeashBio/notebooks/../output/exp015/exp015_submission.csv\n",
      "/workspaces/KaggleLeashBio/notebooks/../output/exp016/exp016_submission.csv\n",
      "/workspaces/KaggleLeashBio/notebooks/../output/exp031/exp031_submission.csv\n",
      "/workspaces/KaggleLeashBio/notebooks/../output/exp034/exp034_submission.csv\n",
      "/workspaces/KaggleLeashBio/notebooks/../output/exp037/exp037_submission_1st.csv\n",
      "/workspaces/KaggleLeashBio/notebooks/../output/exp043/exp043_submission_1st.csv\n",
      "/workspaces/KaggleLeashBio/notebooks/../output/exp044/exp044_submission_1st.csv\n",
      "/workspaces/KaggleLeashBio/notebooks/../output/exp049/exp049_submission_1st.csv\n",
      "/workspaces/KaggleLeashBio/notebooks/../output/exp050/exp050_submission_1st.csv\n",
      "/workspaces/KaggleLeashBio/notebooks/../output/exp051/exp051_submission_1st.csv\n",
      "/workspaces/KaggleLeashBio/notebooks/../output/exp054/exp054_submission_1st.csv\n"
     ]
    }
   ],
   "source": [
    "preds = []\n",
    "\n",
    "for exp in exp_no_list:\n",
    "    try:\n",
    "        path = OUTPUT_DIR / f\"exp{exp}\" / f\"exp{exp}_submission.csv\"\n",
    "        df_temp = pd.read_csv(path)\n",
    "    except:\n",
    "        path = OUTPUT_DIR / f\"exp{exp}\" / f\"exp{exp}_submission_1st.csv\"\n",
    "        df_temp = pd.read_csv(path)\n",
    "    print(path)\n",
    "    preds.append(df_temp['binds'].values)\n",
    "    \n",
    "preds = np.mean(preds, axis=0)"
   ]
  },
  {
   "cell_type": "code",
   "execution_count": 5,
   "metadata": {},
   "outputs": [],
   "source": [
    "df_temp['binds'] = preds\n",
    "df_temp[['id', 'binds']].to_csv(ENS_OUTPUT_DIR / f\"submission_{'_'.join(exp_no_list)}.csv\", index = False)"
   ]
  },
  {
   "cell_type": "code",
   "execution_count": null,
   "metadata": {},
   "outputs": [],
   "source": []
  },
  {
   "cell_type": "code",
   "execution_count": null,
   "metadata": {},
   "outputs": [],
   "source": []
  }
 ],
 "metadata": {
  "kaggle": {
   "accelerator": "nvidiaTeslaT4",
   "dataSources": [
    {
     "databundleVersionId": 8006601,
     "sourceId": 67356,
     "sourceType": "competition"
    },
    {
     "datasetId": 4914065,
     "sourceId": 8275617,
     "sourceType": "datasetVersion"
    }
   ],
   "isGpuEnabled": true,
   "isInternetEnabled": true,
   "language": "python",
   "sourceType": "notebook"
  },
  "kernelspec": {
   "display_name": "Python 3 (ipykernel)",
   "language": "python",
   "name": "python3"
  },
  "language_info": {
   "codemirror_mode": {
    "name": "ipython",
    "version": 3
   },
   "file_extension": ".py",
   "mimetype": "text/x-python",
   "name": "python",
   "nbconvert_exporter": "python",
   "pygments_lexer": "ipython3",
   "version": "3.10.14"
  }
 },
 "nbformat": 4,
 "nbformat_minor": 4
}
