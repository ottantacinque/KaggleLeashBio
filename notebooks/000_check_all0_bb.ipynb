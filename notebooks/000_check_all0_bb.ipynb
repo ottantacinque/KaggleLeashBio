{
 "cells": [
  {
   "cell_type": "markdown",
   "metadata": {},
   "source": [
    "# Leash Bio\n",
    "\n",
    "- positive data多めに使う。残りはrandom sampling\n",
    "- bbごとにsoft labelingしてみる\n",
    "\n",
    "\n",
    "## ref\n",
    "- https://www.kaggle.com/code/yyyu54/pytorch-version-belka-1dcnn-starter-with-all-data\n",
    "- https://www.kaggle.com/code/ahmedelfazouan/belka-1dcnn-starter-with-all-data/notebook"
   ]
  },
  {
   "cell_type": "code",
   "execution_count": 2,
   "metadata": {},
   "outputs": [],
   "source": [
    "exp_no = '000'\n",
    "DEBUG = False\n",
    "# data_ratio = 1/5"
   ]
  },
  {
   "cell_type": "code",
   "execution_count": 3,
   "metadata": {
    "_cell_guid": "b1076dfc-b9ad-4769-8c92-a6c4dae69d19",
    "_uuid": "8f2839f25d086af736a60e9eeb907d3b93b6e0e5"
   },
   "outputs": [],
   "source": [
    "import gc\n",
    "import os\n",
    "import pickle\n",
    "import random\n",
    "import joblib\n",
    "import pandas as pd\n",
    "# import polars as pd\n",
    "from tqdm import tqdm\n",
    "\n",
    "import numpy as np\n",
    "from sklearn.metrics import average_precision_score as APS\n",
    "from sklearn.model_selection import StratifiedKFold\n",
    "\n",
    "import torch\n",
    "from torch.utils.data import TensorDataset, Dataset, DataLoader\n",
    "import torch.nn as nn\n",
    "import torch.nn.functional as F\n",
    "import pytorch_lightning as pl\n",
    "from pytorch_lightning.callbacks.lr_monitor import LearningRateMonitor\n",
    "\n",
    "from pytorch_lightning import LightningModule\n",
    "from pytorch_lightning import LightningDataModule, Trainer\n",
    "# seed_everything\n",
    "from pytorch_lightning.callbacks import (\n",
    "    ModelCheckpoint, \n",
    "    EarlyStopping,\n",
    "    ModelCheckpoint,\n",
    "    RichModelSummary,\n",
    "    RichProgressBar,\n",
    ")\n",
    "from pytorch_lightning.loggers import TensorBoardLogger\n",
    "from torch.optim.lr_scheduler import CosineAnnealingWarmRestarts\n",
    "\n",
    "import timm\n",
    "from timm.utils import ModelEmaV2\n",
    "\n",
    "from funcs.utils import find_latest_ckpt_path, del_old_ckpt_path\n",
    "from funcs.calc_descriptor import calc_rdkit_descriptors, calc_ecfp4_descriptors\n",
    "from funcs.tokenize import tokenize_smiles\n",
    "\n",
    "import warnings\n",
    "warnings.simplefilter('ignore')"
   ]
  },
  {
   "cell_type": "code",
   "execution_count": 4,
   "metadata": {},
   "outputs": [
    {
     "name": "stdout",
     "output_type": "stream",
     "text": [
      "Using 0 GPU(s)\n",
      "pytorch: 2.3.1\n"
     ]
    }
   ],
   "source": [
    "import os\n",
    "from pathlib import Path\n",
    "\n",
    "def is_kaggle_kernel():\n",
    "    return os.path.exists('/kaggle/working')\n",
    "\n",
    "if is_kaggle_kernel():\n",
    "\n",
    "    BASE_DIR = Path(\"/kaggle\")\n",
    "    DATA_DIR = BASE_DIR / \"input\"\n",
    "    OUTPUT_DIR = BASE_DIR / \"working\"\n",
    "    print('on kaggle notebook')\n",
    "\n",
    "else:\n",
    "    BASE_DIR = Path(os.getcwd()) / './../'\n",
    "    DATA_DIR = BASE_DIR / \"data\"\n",
    "    OUTPUT_DIR = BASE_DIR / f\"output/exp{exp_no}\"\n",
    "    \n",
    "# set device\n",
    "if torch.backends.mps.is_available():\n",
    "    device = \"mps\"\n",
    "elif torch.cuda.is_available():    \n",
    "    device = \"cuda\"\n",
    "else:\n",
    "    device = \"cpu\"\n",
    "    \n",
    "# os.environ[\"CUDA_VISIBLE_DEVICES\"] = \"0,1\"\n",
    "print('Using', torch.cuda.device_count(), 'GPU(s)')\n",
    "print('pytorch:', torch.__version__)"
   ]
  },
  {
   "cell_type": "code",
   "execution_count": 5,
   "metadata": {},
   "outputs": [],
   "source": [
    "class config:\n",
    "    SEED = 2024\n",
    "    \n",
    "    PREPROCESS = False\n",
    "    EPOCHS = 20 #20\n",
    "    PATIENCE = 5 #20\n",
    "    BATCH_SIZE = 4096\n",
    "    NUM_WORKERS = 16\n",
    "    \n",
    "    USE_EMA = False\n",
    "    \n",
    "    LR = 1e-3\n",
    "    WEIGHT_DECAY = 1e-6\n",
    "    MIXED_PRECISION = True\n",
    "    \n",
    "    NUM_FOLDS = 5    \n",
    "    USE_NUM_FOLD = 1\n",
    "    \n",
    "class paths:    \n",
    "    DATA_DIR = DATA_DIR\n",
    "    OUTPUT_DIR = OUTPUT_DIR\n",
    "    MODEL_WEIGHTS_DIR = OUTPUT_DIR / f\"bio-models-exp{exp_no}\"\n",
    "    \n",
    "    SHRUNKEN_DATA_DIR = DATA_DIR / \"shrunken-data\"\n",
    "\n",
    "    TRAIN_PATH = SHRUNKEN_DATA_DIR / \"train.parquet\"\n",
    "    TEST_PATH = SHRUNKEN_DATA_DIR / \"test.parquet\"\n",
    "    SUB_PATH = SHRUNKEN_DATA_DIR / \"sub.parquet\"\n",
    "    \n",
    "    OUTPUT_DIR.mkdir(exist_ok=True, parents=True)"
   ]
  },
  {
   "cell_type": "code",
   "execution_count": 6,
   "metadata": {
    "_kg_hide-output": true
   },
   "outputs": [
    {
     "name": "stdout",
     "output_type": "stream",
     "text": [
      "fix seed\n"
     ]
    }
   ],
   "source": [
    "print('fix seed')\n",
    "\n",
    "def my_seed_everything(seed: int):\n",
    "    random.seed(seed)\n",
    "    np.random.seed(seed)\n",
    "    torch.manual_seed(seed)\n",
    "    os.environ['PYTHONHASHSEED'] = str(seed)\n",
    "    \n",
    "# seed_everything(config.SEED, workers=True)\n",
    "my_seed_everything(config.SEED)"
   ]
  },
  {
   "cell_type": "markdown",
   "metadata": {},
   "source": [
    "# **Loda Data**"
   ]
  },
  {
   "cell_type": "code",
   "execution_count": 7,
   "metadata": {},
   "outputs": [],
   "source": [
    "bb_cols = ['buildingblock1_smiles', 'buildingblock2_smiles','buildingblock3_smiles', \n",
    "           'buildingblock1_smiles_scaffold', \"buildingblock2_smiles_scaffold\", \"buildingblock3_smiles_scaffold\",\n",
    "           'fold']\n",
    "\n",
    "TARGETS = ['binds_BRD4', 'binds_HSA','binds_sEH']\n",
    "\n",
    "df_train = pd.read_parquet(paths.TRAIN_PATH, columns=bb_cols + TARGETS)"
   ]
  },
  {
   "cell_type": "code",
   "execution_count": 78,
   "metadata": {},
   "outputs": [],
   "source": [
    "# ソフトラベリングを用意する\n",
    "bb1_mean = df_train.groupby('buildingblock1_smiles')[TARGETS].mean()\n",
    "bb2_mean = df_train.groupby('buildingblock2_smiles')[TARGETS].mean()\n",
    "bb3_mean = df_train.groupby('buildingblock3_smiles')[TARGETS].mean()\n",
    "\n",
    "bb2_scf_mean = df_train.groupby('buildingblock2_smiles_scaffold')[TARGETS].mean()\n",
    "bb3_scf_mean = df_train.groupby('buildingblock3_smiles_scaffold')[TARGETS].mean()"
   ]
  },
  {
   "cell_type": "code",
   "execution_count": 79,
   "metadata": {},
   "outputs": [],
   "source": [
    "# 変換用辞書を読み込む\n",
    "with open(paths.SHRUNKEN_DATA_DIR / 'bb1_smiles2idx.pickle', mode='rb') as f:\n",
    "    bb1_smiles2idx = pickle.load(f)\n",
    "with open(paths.SHRUNKEN_DATA_DIR / 'bb23_smiles2idx.pickle', mode='rb') as f:\n",
    "    bb23_smiles2idx = pickle.load(f)\n",
    "with open(paths.SHRUNKEN_DATA_DIR / 'bb1_scaffold_smiles2idx.pickle', mode='rb') as f:\n",
    "    bb1_scaffold_smiles2idx = pickle.load(f)\n",
    "with open(paths.SHRUNKEN_DATA_DIR / 'bb23_scaffold_smiles2idx.pickle', mode='rb') as f:\n",
    "    bb23_scaffold_smiles2idx = pickle.load(f)\n",
    "    \n",
    "bb1_idx2smiles = {v:k for k,v in bb1_smiles2idx.items()}\n",
    "bb23_idx2smiles = {v:k for k,v in bb23_smiles2idx.items()}\n",
    "bb1_scaffold_idx2smiles = {v:k for k,v in bb1_scaffold_smiles2idx.items()}\n",
    "bb23_scaffold_idx2smiles = {v:k for k,v in bb23_scaffold_smiles2idx.items()}"
   ]
  },
  {
   "cell_type": "code",
   "execution_count": 10,
   "metadata": {},
   "outputs": [],
   "source": [
    "# すべて0のbbがあるかチェック"
   ]
  },
  {
   "cell_type": "code",
   "execution_count": 86,
   "metadata": {},
   "outputs": [
    {
     "name": "stdout",
     "output_type": "stream",
     "text": [
      "##### bb2 #####\n",
      "binds_HSA : 1469 : 76917\n",
      "##### bb3 #####\n",
      "binds_BRD4 : 302 : 5674\n",
      "binds_BRD4 : 387 : 10265\n",
      "binds_BRD4 : 699 : 11345\n",
      "binds_BRD4 : 799 : 23962\n",
      "binds_BRD4 : 883 : 2162\n",
      "binds_BRD4 : 928 : 1895\n",
      "binds_BRD4 : 1028 : 792\n",
      "binds_BRD4 : 1160 : 7295\n",
      "binds_BRD4 : 1207 : 7566\n",
      "binds_BRD4 : 1226 : 266\n",
      "binds_BRD4 : 1301 : 6438\n",
      "binds_BRD4 : 1311 : 14006\n",
      "binds_BRD4 : 1331 : 30768\n",
      "binds_BRD4 : 1377 : 1625\n",
      "binds_BRD4 : 1379 : 8087\n",
      "binds_BRD4 : 1411 : 995\n",
      "binds_BRD4 : 1414 : 16501\n",
      "binds_BRD4 : 1458 : 5134\n",
      "binds_HSA : 70 : 43798\n",
      "binds_HSA : 228 : 542\n",
      "binds_HSA : 1226 : 266\n",
      "binds_sEH : 1226 : 266\n",
      "##### bb2 scf #####\n",
      "binds_HSA : 458 : 76917\n",
      "##### bb3 scf #####\n",
      "binds_BRD4 : 48 : 7566\n",
      "binds_BRD4 : 71 : 16501\n",
      "binds_BRD4 : 116 : 2162\n",
      "binds_BRD4 : 170 : 792\n",
      "binds_BRD4 : 197 : 14006\n",
      "binds_HSA : 305 : 542\n"
     ]
    }
   ],
   "source": [
    "bb2_index_list = {}\n",
    "bb3_index_list = {}\n",
    "bb2_scf_index_list = {}\n",
    "bb3_scf_index_list = {}\n",
    "\n",
    "\n",
    "def check_zero_index_list(bb_mean, col_name):\n",
    "    bb_index_list = {}\n",
    "    for target in TARGETS:\n",
    "        index_list_temp = bb_mean[bb_mean[target]==0].index.tolist()\n",
    "        bb_index_list[target] = index_list_temp\n",
    "\n",
    "        for index in index_list_temp:\n",
    "            count = (df_train[col_name]==index).sum()\n",
    "            print(target, \":\", index, \":\", count)\n",
    "            \n",
    "    return bb_index_list\n",
    "            \n",
    "print('##### bb2 #####')\n",
    "bb2_index_list = check_zero_index_list(bb2_mean, 'buildingblock2_smiles')\n",
    "print('##### bb3 #####')\n",
    "bb3_index_list = check_zero_index_list(bb3_mean, 'buildingblock3_smiles')\n",
    "print('##### bb2 scf #####')\n",
    "bb2_scf_index_list = check_zero_index_list(bb2_scf_mean, 'buildingblock2_smiles_scaffold')\n",
    "print('##### bb3 scf #####')\n",
    "bb3_scf_index_list = check_zero_index_list(bb3_scf_mean, 'buildingblock3_smiles_scaffold')"
   ]
  },
  {
   "cell_type": "markdown",
   "metadata": {},
   "source": [
    "# SUBをいじる"
   ]
  },
  {
   "cell_type": "code",
   "execution_count": 38,
   "metadata": {},
   "outputs": [],
   "source": [
    "df_test = pd.read_parquet(paths.SUB_PATH)"
   ]
  },
  {
   "cell_type": "code",
   "execution_count": 103,
   "metadata": {},
   "outputs": [],
   "source": [
    "# 全て0のbbが使用されているレコードidを取得\n",
    "def get_zero_pred_ids(bb_index_list, col_name):\n",
    "    zero_pred_ids = []\n",
    "    for target in TARGETS:\n",
    "        index_list = bb_index_list[target]\n",
    "        for index in index_list:\n",
    "            zero_pred_ids += df_test.loc[(df_test[col_name] == index)&(df_test['protein_name'] == target.replace('binds_', '')), 'id'].values.tolist()\n",
    "    return zero_pred_ids\n",
    "\n",
    "zero_pred_ids = []\n",
    "\n",
    "zero_pred_ids += get_zero_pred_ids(bb2_index_list, 'buildingblock2_smiles')\n",
    "zero_pred_ids += get_zero_pred_ids(bb3_index_list, 'buildingblock3_smiles')\n",
    "zero_pred_ids += get_zero_pred_ids(bb2_scf_index_list, 'buildingblock2_smiles_scaffold')\n",
    "zero_pred_ids += get_zero_pred_ids(bb3_scf_index_list, 'buildingblock3_smiles_scaffold')\n",
    "\n",
    "zero_pred_ids = list(set(zero_pred_ids))"
   ]
  },
  {
   "cell_type": "code",
   "execution_count": 73,
   "metadata": {},
   "outputs": [],
   "source": [
    "filename = \"submission_015_016_031_034_037_043_044_054_056\"\n",
    "path = BASE_DIR / f'output/ensemble/{filename}.csv'\n",
    "df_sub = pd.read_csv(path)"
   ]
  },
  {
   "cell_type": "code",
   "execution_count": 74,
   "metadata": {},
   "outputs": [],
   "source": [
    "df_sub.loc[df_sub['id'].isin(zero_pred_ids), 'binds'] = 0"
   ]
  },
  {
   "cell_type": "code",
   "execution_count": 75,
   "metadata": {},
   "outputs": [],
   "source": [
    "df_sub.to_csv(BASE_DIR / f'output/ensemble/{filename}_pp.csv', index=False)"
   ]
  }
 ],
 "metadata": {
  "kaggle": {
   "accelerator": "nvidiaTeslaT4",
   "dataSources": [
    {
     "databundleVersionId": 8006601,
     "sourceId": 67356,
     "sourceType": "competition"
    },
    {
     "datasetId": 4914065,
     "sourceId": 8275617,
     "sourceType": "datasetVersion"
    }
   ],
   "isGpuEnabled": true,
   "isInternetEnabled": true,
   "language": "python",
   "sourceType": "notebook"
  },
  "kernelspec": {
   "display_name": "Python 3 (ipykernel)",
   "language": "python",
   "name": "python3"
  },
  "language_info": {
   "codemirror_mode": {
    "name": "ipython",
    "version": 3
   },
   "file_extension": ".py",
   "mimetype": "text/x-python",
   "name": "python",
   "nbconvert_exporter": "python",
   "pygments_lexer": "ipython3",
   "version": "3.10.14"
  }
 },
 "nbformat": 4,
 "nbformat_minor": 4
}
